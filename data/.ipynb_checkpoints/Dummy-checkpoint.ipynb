{
 "cells": [
  {
   "cell_type": "markdown",
   "id": "2ff70a04-6e4b-43ec-967c-9e1e2df42a30",
   "metadata": {},
   "source": [
    "# Cleaning the Data"
   ]
  },
  {
   "cell_type": "code",
   "execution_count": null,
   "id": "98ba8437-84ec-4db4-927f-1d4cfcf88e30",
   "metadata": {},
   "outputs": [],
   "source": [
    "### Substitute the NaN's which the string \"NoMedalWon\"\n",
    "df_medal_not_won = df_medal_not_won.fillna('NoMedalWon')\n",
    "df_medal_not_won"
   ]
  },
  {
   "cell_type": "code",
   "execution_count": null,
   "id": "3bafa15c-fd4e-47f9-8cb7-f45a707c6df4",
   "metadata": {},
   "outputs": [],
   "source": [
    "### ~Convert 'Age' from Float64 to Int64\n",
    "df_athlete_events['Age'] = df_athlete_events['Age'].astype('Int64')\n",
    "df_athlete_events.head()"
   ]
  },
  {
   "cell_type": "code",
   "execution_count": null,
   "id": "fc0e01b3-a11e-45a6-aef0-7f2323f20213",
   "metadata": {},
   "outputs": [],
   "source": []
  },
  {
   "cell_type": "code",
   "execution_count": null,
   "id": "64d23426-a009-4088-b368-0734c0ceaa33",
   "metadata": {},
   "outputs": [],
   "source": [
    "### Substitute the NaN's in the column 'Medal' with the string \"NoMedalWon\"\n",
    "#df_medal_not_won = df_medal_not_won.fillna('NoMedalWon')\n",
    "#df_medal_not_won\n",
    "df_athlete_events.Medal = df_athlete_events.Medalfillna('NoMedalWon')\n",
    "df_athlete_events"
   ]
  },
  {
   "cell_type": "code",
   "execution_count": null,
   "id": "da468130-a652-4b3e-b3ee-37ddcd197352",
   "metadata": {},
   "outputs": [],
   "source": [
    "### ~Convert 'Age' from Float64 to Int64\n",
    "df_athlete_events['Age'] = df_athlete_events['Age'].astype('Int64')\n",
    "\n",
    "# Substitute the NaN's which the string \"NoAgeProvided\" - if there are any NaN's\n",
    "df_athlete_events = df_athlete_events.fillna('NoMedalWon') \n",
    "df_athlete_events.head()"
   ]
  }
 ],
 "metadata": {
  "kernelspec": {
   "display_name": "MLG",
   "language": "python",
   "name": "mlg"
  },
  "language_info": {
   "codemirror_mode": {
    "name": "ipython",
    "version": 3
   },
   "file_extension": ".py",
   "mimetype": "text/x-python",
   "name": "python",
   "nbconvert_exporter": "python",
   "pygments_lexer": "ipython3",
   "version": "3.10.8"
  }
 },
 "nbformat": 4,
 "nbformat_minor": 5
}
