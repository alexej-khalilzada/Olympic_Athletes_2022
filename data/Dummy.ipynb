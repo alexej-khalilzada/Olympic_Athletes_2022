{
 "cells": [
  {
   "cell_type": "markdown",
   "id": "2ff70a04-6e4b-43ec-967c-9e1e2df42a30",
   "metadata": {},
   "source": [
    "# Cleaning the Data"
   ]
  },
  {
   "cell_type": "code",
   "execution_count": null,
   "id": "98ba8437-84ec-4db4-927f-1d4cfcf88e30",
   "metadata": {},
   "outputs": [],
   "source": [
    "### Substitute the NaN's which the string \"NoMedalWon\"\n",
    "df_medal_not_won = df_medal_not_won.fillna('NoMedalWon')\n",
    "df_medal_not_won"
   ]
  },
  {
   "cell_type": "code",
   "execution_count": null,
   "id": "3bafa15c-fd4e-47f9-8cb7-f45a707c6df4",
   "metadata": {},
   "outputs": [],
   "source": [
    "### ~Convert 'Age' from Float64 to Int64\n",
    "df_athlete_events['Age'] = df_athlete_events['Age'].astype('Int64')\n",
    "df_athlete_events.head()"
   ]
  },
  {
   "cell_type": "code",
   "execution_count": null,
   "id": "fc0e01b3-a11e-45a6-aef0-7f2323f20213",
   "metadata": {},
   "outputs": [],
   "source": []
  },
  {
   "cell_type": "code",
   "execution_count": null,
   "id": "64d23426-a009-4088-b368-0734c0ceaa33",
   "metadata": {},
   "outputs": [],
   "source": [
    "### Substitute the NaN's in the column 'Medal' with the string \"NoMedalWon\"\n",
    "#df_medal_not_won = df_medal_not_won.fillna('NoMedalWon')\n",
    "#df_medal_not_won\n",
    "df_athlete_events.Medal = df_athlete_events.Medalfillna('NoMedalWon')\n",
    "df_athlete_events"
   ]
  },
  {
   "cell_type": "code",
   "execution_count": null,
   "id": "da468130-a652-4b3e-b3ee-37ddcd197352",
   "metadata": {},
   "outputs": [],
   "source": [
    "### ~Convert 'Age' from Float64 to Int64\n",
    "df_athlete_events['Age'] = df_athlete_events['Age'].astype('Int64')\n",
    "\n",
    "# Substitute the NaN's which the string \"NoAgeProvided\" - if there are any NaN's\n",
    "df_athlete_events = df_athlete_events.fillna('NoMedalWon') \n",
    "df_athlete_events.head()"
   ]
  },
  {
   "cell_type": "code",
   "execution_count": null,
   "id": "3d9bc918-6152-4062-9eda-3a83904a8023",
   "metadata": {},
   "outputs": [],
   "source": []
  },
  {
   "cell_type": "code",
   "execution_count": null,
   "id": "3aed81ef-f712-4f88-a9e2-c282c9395f8b",
   "metadata": {},
   "outputs": [],
   "source": [
    "##### Column 'Age'\n",
    "### ~Convert 'Age' from Float64 to Int64\n",
    "df_athlete_events['Age'] = df_athlete_events['Age'].astype('Int64')\n",
    "\n",
    "# Substitute the NaN's with 99999 - if there are any NaN's\n",
    "df_athlete_events.Age = df_athlete_events.Age.fillna(99999)\n",
    "\n",
    "##### Column 'Height'\n",
    "# Substitute the NaN's with 0 if there are any NaN's\n",
    "df_athlete_events.Height = df_athlete_events.Age.fillna(0)\n",
    "# ~Convert 'Height' from Float64 to Int64\n",
    "df_athlete_events['Height'] = df_athlete_events['Height'].astype('Int64')\n",
    "\n",
    "##### Column 'Weight'\n",
    "### ~Convert 'Weight' from Float64 to Int64\n",
    "#df_athlete_events['Weight'] = df_athlete_events['Weight'].astype('Int64')\n",
    "\n",
    "df_athlete_events.head()"
   ]
  },
  {
   "cell_type": "code",
   "execution_count": null,
   "id": "c265f3a1-7494-4671-872e-026d1811500e",
   "metadata": {},
   "outputs": [],
   "source": []
  },
  {
   "cell_type": "code",
   "execution_count": null,
   "id": "4b498824-d95b-41be-91fe-b89ea0424b14",
   "metadata": {},
   "outputs": [],
   "source": [
    "##### Column 'Weight'\n",
    "# ~Convert 'Weight' from Float64 to Int64\n",
    "df_athlete_events['Weight'] = df_athlete_events['Weight'].astype('Int64')\n",
    "\n",
    "# Substitute the NaN's with 99999 if there are any NaN's\n",
    "df_athlete_events.Weight = df_athlete_events.Weight.fillna(99999)"
   ]
  },
  {
   "cell_type": "code",
   "execution_count": null,
   "id": "4b3448be-b297-4b12-bb4e-60ea3957979e",
   "metadata": {},
   "outputs": [],
   "source": []
  },
  {
   "cell_type": "code",
   "execution_count": null,
   "id": "2631ea0c-694a-48f4-b6d1-647f89fdb064",
   "metadata": {},
   "outputs": [],
   "source": [
    "#dummy3 = df_athlete_events.groupby(by=\"Medal\").count()\n",
    "dummy3 = df_athlete_events.groupby(by=\"Medal\").value_counts()\n",
    "dummy3"
   ]
  },
  {
   "cell_type": "code",
   "execution_count": null,
   "id": "8b825ed4-b9e4-451f-8770-a78753044e14",
   "metadata": {},
   "outputs": [],
   "source": []
  },
  {
   "cell_type": "code",
   "execution_count": null,
   "id": "5ba615e8-daa8-4569-ba0c-c259b63cdbc8",
   "metadata": {},
   "outputs": [],
   "source": []
  }
 ],
 "metadata": {
  "kernelspec": {
   "display_name": "MLG",
   "language": "python",
   "name": "mlg"
  },
  "language_info": {
   "codemirror_mode": {
    "name": "ipython",
    "version": 3
   },
   "file_extension": ".py",
   "mimetype": "text/x-python",
   "name": "python",
   "nbconvert_exporter": "python",
   "pygments_lexer": "ipython3",
   "version": "3.10.8"
  }
 },
 "nbformat": 4,
 "nbformat_minor": 5
}
